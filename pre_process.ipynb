{
 "cells": [
  {
   "cell_type": "code",
   "execution_count": 3,
   "id": "4d4b3b50-3d16-4e18-a393-09d375ab3303",
   "metadata": {},
   "outputs": [],
   "source": [
    "import os\n",
    "import shutil\n",
    "import time"
   ]
  },
  {
   "cell_type": "code",
   "execution_count": 8,
   "id": "6b183fb3-6d30-4db0-bead-5a61a2eeb264",
   "metadata": {},
   "outputs": [],
   "source": [
    "i = 0\n",
    "for f in os.listdir('./data'):\n",
    "    shutil.move('./data/'+f, './data/{:04}.jpg'.format(i))\n",
    "    i += 1"
   ]
  },
  {
   "cell_type": "code",
   "execution_count": null,
   "id": "f102b8aa-0d81-48fb-bea5-fcb4822501df",
   "metadata": {},
   "outputs": [],
   "source": []
  }
 ],
 "metadata": {
  "kernelspec": {
   "display_name": "Python 3 (ipykernel)",
   "language": "python",
   "name": "python3"
  },
  "language_info": {
   "codemirror_mode": {
    "name": "ipython",
    "version": 3
   },
   "file_extension": ".py",
   "mimetype": "text/x-python",
   "name": "python",
   "nbconvert_exporter": "python",
   "pygments_lexer": "ipython3",
   "version": "3.9.6"
  }
 },
 "nbformat": 4,
 "nbformat_minor": 5
}
